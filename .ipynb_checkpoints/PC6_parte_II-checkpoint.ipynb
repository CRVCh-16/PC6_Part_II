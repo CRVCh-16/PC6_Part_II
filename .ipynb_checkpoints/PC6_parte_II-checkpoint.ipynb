version https://git-lfs.github.com/spec/v1
oid sha256:1b2287f2d0a1d929276c3b4be05b782d1cfeeb4b054ce9c5b96b5dfac8e46e55
size 160680336
